{
 "cells": [
  {
   "cell_type": "markdown",
   "metadata": {},
   "source": [
    "## This notebook shows how to do the following tasks:\n",
    "\n",
    "## A. Evaluate models in train and test sets"
   ]
  },
  {
   "cell_type": "code",
   "execution_count": 1,
   "metadata": {
    "collapsed": false
   },
   "outputs": [],
   "source": [
    "from functions import build_Xy_table, rescale_sample\n",
    "\n",
    "# load ABM files\n",
    "import BH\n",
    "import islands"
   ]
  },
  {
   "cell_type": "code",
   "execution_count": null,
   "metadata": {
    "collapsed": false
   },
   "outputs": [],
   "source": [
    "#Create training sets\n",
    "\n",
    "SequenceFunctions = [ot.SobolSequence, ot.ReverseHaltonSequence, ot.HaselgroveSequence, ot.FaureSequence]\n",
    "SequenceFunctionStrings = ['Sobol', 'ReverseHalton', 'Haselgrove', 'Faure']\n",
    "size_MC = 50\n",
    "\n",
    "for ss in [200, 400, 800, 1600, 3200]:\n",
    "    for i in range(len(SequenceFunctions)):\n",
    "        build_Xy_table(BH, ss, size_MC, SequenceFunctions[i], SequenceFunctionStrings[i])\n",
    "        build_Xy_table(islands, ss, size_MC, SequenceFunctions[i], SequenceFunctionStrings[i])"
   ]
  },
  {
   "cell_type": "code",
   "execution_count": null,
   "metadata": {
    "collapsed": true
   },
   "outputs": [],
   "source": [
    "# Create test_sets\n",
    "\n",
    "ss = 300\n",
    "size_MC = 50\n",
    "build_Xy_table(islands, ss, size_MC, ot.MonteCarloExperiment, 'MC')\n",
    "build_Xy_table(BH, ss, size_MC, ot.MonteCarloExperiment, 'MC')\n"
   ]
  },
  {
   "cell_type": "code",
   "execution_count": null,
   "metadata": {
    "collapsed": true
   },
   "outputs": [],
   "source": []
  }
 ],
 "metadata": {
  "kernelspec": {
   "display_name": "Python 2",
   "language": "python",
   "name": "python2"
  },
  "language_info": {
   "codemirror_mode": {
    "name": "ipython",
    "version": 2
   },
   "file_extension": ".py",
   "mimetype": "text/x-python",
   "name": "python",
   "nbconvert_exporter": "python",
   "pygments_lexer": "ipython2",
   "version": "2.7.13"
  }
 },
 "nbformat": 4,
 "nbformat_minor": 0
}
