{
 "cells": [
  {
   "cell_type": "markdown",
   "metadata": {},
   "source": [
    "## This notebook shows how to do the following tasks:\n",
    "\n",
    "### C. Train a predictor (surrogate)\n",
    "### D. Compute MSE on test set"
   ]
  },
  {
   "cell_type": "markdown",
   "metadata": {},
   "source": [
    "## C. Train a predictor (surrogate)"
   ]
  },
  {
   "cell_type": "code",
   "execution_count": 20,
   "metadata": {
    "collapsed": false
   },
   "outputs": [
    {
     "name": "stdout",
     "output_type": "stream",
     "text": [
      "Imported successfully\n"
     ]
    }
   ],
   "source": [
    "from functions import *\n",
    "\n",
    "df = pd.read_csv('ABM_eval_Sobol_Islands_ss200_MC50').iloc[:, 1:]"
   ]
  },
  {
   "cell_type": "code",
   "execution_count": 27,
   "metadata": {
    "collapsed": false
   },
   "outputs": [],
   "source": [
    "test_set = build_Xy_table(islands, 20, 10, ot.MonteCarloExperiment, 'MC_test_set', to_file = False)\n"
   ]
  },
  {
   "cell_type": "code",
   "execution_count": 31,
   "metadata": {
    "collapsed": false
   },
   "outputs": [],
   "source": [
    "X, Y = df.iloc[:, :7], df.iloc[:, 7:].mean(axis = 1)\n",
    "\n",
    "# Kriging Surrogate\n",
    "surrogate_model = GaussianProcessRegressor(random_state=0).fit(X, Y)\n",
    "\n",
    "#  XGBoost Surrogate\n",
    "# surrogate_model_XGB = fit_surrogate_model(X, Y)\n",
    "\n",
    "test_set_X, test_set_Y = test_set.iloc[:, :7], test_set.iloc[:, 7:].mean(axis = 1)\n",
    "predicted_Y = surrogate_model.predict(test_set_X.as_matrix())\n"
   ]
  },
  {
   "cell_type": "code",
   "execution_count": 5,
   "metadata": {
    "collapsed": true
   },
   "outputs": [],
   "source": [
    "df = pd.read_csv('ABM_eval_MC_Islands_ss20_MC10')"
   ]
  },
  {
   "cell_type": "code",
   "execution_count": 40,
   "metadata": {
    "collapsed": false
   },
   "outputs": [
    {
     "data": {
      "text/plain": [
       "array([  1.86315520e+07,   3.40910250e+05,   4.26360160e+07,\n",
       "         4.76392800e+06,  -4.42544000e+05,  -8.44841600e+06,\n",
       "         1.89342750e+05,  -2.41632000e+05,   1.14364077e+10,\n",
       "        -1.31816000e+06,  -3.54310400e+06,   5.78746400e+06,\n",
       "        -1.47785300e+06,   1.88317440e+07,   1.20091812e+06,\n",
       "        -7.63596000e+05,  -6.21594600e+06,  -1.38568750e+04,\n",
       "         5.55430759e+16,   2.19952480e+07])"
      ]
     },
     "execution_count": 40,
     "metadata": {},
     "output_type": "execute_result"
    }
   ],
   "source": [
    "predicted_Y - test_set_Y.values\n",
    "# test_set_Y.values"
   ]
  },
  {
   "cell_type": "code",
   "execution_count": 21,
   "metadata": {
    "collapsed": true
   },
   "outputs": [],
   "source": [
    "import warnings\n",
    "warnings.filterwarnings('ignore')\n",
    "\n",
    "import pandas as pd\n",
    "import openturns as ot\n",
    "from joblib import Parallel, delayed\n",
    "from tqdm import tqdm\n",
    "import numpy as np\n",
    "\n",
    "# load ABM file\n",
    "import islands\n",
    "\n",
    "def build_Xy_table(ABM, size_sample, size_MC, SequenceFunction, SequenceFunctionString, to_file = True, **kwargs):\n",
    "    \n",
    "    problem_ABM = ABM.problem()\n",
    "\n",
    "    SequenceFunction = ot.SobolSequence(problem_ABM['num_vars'], **kwargs)\n",
    "\n",
    "    set_X = rescale_sample(np.array(SequenceFunction.generate(size_sample)), problem_ABM['bounds'])\n",
    "    \n",
    "    # Evaluate\n",
    "    set_y = [np.array(Parallel(n_jobs=-1)(delayed(ABM.model)(p) for p in set_X)) for i in range(size_MC)]\n",
    "    \n",
    "    # as DataFrame\n",
    "    df = pd.DataFrame(set_X, columns = problem_ABM['names']).join(pd.DataFrame(set_y).T.add_prefix('evaluation_'))\n",
    "    \n",
    "    if to_file:\n",
    "        # save file\n",
    "        filename = 'ABM_eval_'+SequenceFunctionString+'_'+problem_ABM['abm_name']+'_ss'+str(size_sample)+'_MC'+str(size_MC)\n",
    "        df.to_csv(filename, index = False)\n",
    "        print 'Saved file '+filename\n",
    "    else:\n",
    "        return df\n",
    "    \n",
    "def rescale_sample(sample, bounds):\n",
    "    d = [b[1] - b[0] for b in bounds]\n",
    "    m = [min(b) for b in bounds]\n",
    "    rescaled_sample = m + (d * sample)\n",
    "    return rescaled_sample"
   ]
  },
  {
   "cell_type": "code",
   "execution_count": null,
   "metadata": {
    "collapsed": true
   },
   "outputs": [],
   "source": []
  }
 ],
 "metadata": {
  "kernelspec": {
   "display_name": "Python 2",
   "language": "python",
   "name": "python2"
  },
  "language_info": {
   "codemirror_mode": {
    "name": "ipython",
    "version": 2
   },
   "file_extension": ".py",
   "mimetype": "text/x-python",
   "name": "python",
   "nbconvert_exporter": "python",
   "pygments_lexer": "ipython2",
   "version": "2.7.13"
  }
 },
 "nbformat": 4,
 "nbformat_minor": 0
}
