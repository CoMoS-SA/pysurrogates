{
 "cells": [
  {
   "cell_type": "markdown",
   "metadata": {},
   "source": [
    "## This notebook shows how to do the following tasks:\n",
    "    \n",
    "### A. Create sample\n",
    "### B. Evaluate models"
   ]
  },
  {
   "cell_type": "markdown",
   "metadata": {},
   "source": [
    "## A. Create sample"
   ]
  },
  {
   "cell_type": "code",
   "execution_count": 11,
   "metadata": {
    "collapsed": false
   },
   "outputs": [],
   "source": [
    "import warnings\n",
    "warnings.filterwarnings('ignore')\n",
    "\n",
    "import pandas as pd\n",
    "import openturns as ot\n",
    "from joblib import Parallel, delayed\n",
    "from tqdm import tqdm\n",
    "import numpy as np\n",
    "\n",
    "# load ABM file\n",
    "import islands\n",
    "\n",
    "def build_Xy_table(ABM, size_sample, size_MC, SequenceFunction, SequenceFunctionString, as_df = True, to_file = True, **kwargs):\n",
    "    \n",
    "    import os\n",
    "    \n",
    "    problem_ABM = ABM.problem()\n",
    "\n",
    "    if SequenceFunction == ot.MonteCarloExperiment:\n",
    "        unscaled_set_X = np.array([ot.MonteCarloExperiment(ot.Uniform(0, 1), size_sample).generate() for i in range(problem_ABM['num_vars'])])\n",
    "        unscaled_set_X = unscaled_set_X.reshape(size_sample, problem_ABM['num_vars'])\n",
    "    \n",
    "    else:\n",
    "        SequenceFunction = SequenceFunction(problem_ABM['num_vars'], **kwargs)\n",
    "        unscaled_set_X = np.array(SequenceFunction.generate(size_sample))\n",
    "\n",
    "    set_X = rescale_sample(unscaled_set_X, problem_ABM['bounds'])\n",
    "    \n",
    "    # Evaluate\n",
    "    set_y = [np.array(Parallel(n_jobs=-1)(delayed(ABM.model)(p) for p in set_X)) for i in range(size_MC)]\n",
    "    \n",
    "    # as DataFrame\n",
    "    df = pd.DataFrame(set_X, columns = problem_ABM['names']).join(pd.DataFrame(set_y).T.add_prefix('evaluation_'))\n",
    "    \n",
    "    if to_file:\n",
    "        # save file\n",
    "        directory = 'ABM_eval_'+problem_ABM['abm_name']\n",
    "        filename = SequenceFunctionString+'_ss'+str(size_sample)+'_MC'+str(size_MC)\n",
    "        if not os.path.exists(directory):\n",
    "            os.makedirs(directory+'/'+filename)\n",
    "        df.to_csv(filename, index = False)\n",
    "        print 'Saved file '+filename\n",
    "    if as_df:\n",
    "        return df\n",
    "    \n",
    "def rescale_sample(sample, bounds):\n",
    "    d = [b[1] - b[0] for b in bounds]\n",
    "    m = [min(b) for b in bounds]\n",
    "    rescaled_sample = m + (d * sample)\n",
    "    return rescaled_sample"
   ]
  },
  {
   "cell_type": "code",
   "execution_count": 4,
   "metadata": {
    "collapsed": false
   },
   "outputs": [],
   "source": [
    "SequenceFunctions = [ot.SobolSequence, ot.HaltonSequence, ot.ReverseHaltonSequence, ot.HaselgroveSequence, ot.FaureSequence]\n",
    "SequenceFunctionStrings = ['Sobol', 'Halton', 'ReverseHalton', 'Haselgrove', 'Faure']\n",
    "size_MC = 50\n",
    "\n",
    "for ss in [200, 400, 800, 1600, 3200]:\n",
    "    for i in range(len(SequenceFunctions)):\n",
    "        build_Xy_table(islands, ss, size_MC, SequenceFunctions[i], SequenceFunctionStrings[i])"
   ]
  },
  {
   "cell_type": "code",
   "execution_count": 10,
   "metadata": {
    "collapsed": false
   },
   "outputs": [
    {
     "name": "stdout",
     "output_type": "stream",
     "text": [
      "Saved file Sobol__ss200_MC50\n",
      "Saved file Sobol__ss400_MC50\n",
      "Saved file Sobol__ss800_MC50\n",
      "Saved file Sobol__ss1600_MC50\n",
      "Saved file Sobol__ss3200_MC50\n"
     ]
    }
   ],
   "source": [
    "#Create training sets (Only Sobol sampling)\n",
    "size_MC = 50\n",
    "for ss in [200, 400, 800, 1600, 3200]:\n",
    "    build_Xy_table(islands, ss, size_MC, ot.SobolSequence, 'Sobol')\n",
    "\n",
    "#Create MC test set\n",
    "# build_Xy_table(islands, 20, 10, SequenceFunctions[1], SequenceFunctionStrings[1])"
   ]
  },
  {
   "cell_type": "code",
   "execution_count": null,
   "metadata": {
    "collapsed": false
   },
   "outputs": [],
   "source": [
    "SequenceFunctions = [ot.ReverseHaltonSequence, ot.HaselgroveSequence, ot.FaureSequence]\n",
    "SequenceFunctionStrings = ['ReverseHalton', 'Haselgrove', 'Faure']\n",
    "\n",
    "size_MC = 50\n",
    "for i in range(3):\n",
    "    for ss in [200, 400, 800, 1600, 3200]:\n",
    "        build_Xy_table(islands, ss, size_MC, SequenceFunctions[i], SequenceFunctionStrings[i])"
   ]
  },
  {
   "cell_type": "code",
   "execution_count": null,
   "metadata": {
    "collapsed": true
   },
   "outputs": [],
   "source": []
  },
  {
   "cell_type": "code",
   "execution_count": null,
   "metadata": {
    "collapsed": true
   },
   "outputs": [],
   "source": []
  }
 ],
 "metadata": {
  "kernelspec": {
   "display_name": "Python 2",
   "language": "python",
   "name": "python2"
  },
  "language_info": {
   "codemirror_mode": {
    "name": "ipython",
    "version": 2
   },
   "file_extension": ".py",
   "mimetype": "text/x-python",
   "name": "python",
   "nbconvert_exporter": "python",
   "pygments_lexer": "ipython2",
   "version": "2.7.13"
  }
 },
 "nbformat": 4,
 "nbformat_minor": 0
}
