{
 "cells": [
  {
   "cell_type": "markdown",
   "metadata": {},
   "source": [
    "## This notebook shows how to do the following tasks:\n",
    "\n",
    "### C. Train a predictor (surrogate)\n",
    "### D. Compute MSE on test set"
   ]
  },
  {
   "cell_type": "markdown",
   "metadata": {},
   "source": [
    "## C. Train a predictor (surrogate)"
   ]
  },
  {
   "cell_type": "code",
   "execution_count": 2,
   "metadata": {
    "collapsed": false
   },
   "outputs": [
    {
     "name": "stdout",
     "output_type": "stream",
     "text": [
      "Imported successfully\n"
     ]
    },
    {
     "name": "stderr",
     "output_type": "stream",
     "text": [
      "/home/miglesia/anaconda2/lib/python2.7/site-packages/sklearn/cross_validation.py:41: DeprecationWarning: This module was deprecated in version 0.18 in favor of the model_selection module into which all the refactored classes and functions are moved. Also note that the interface of the new CV iterators are different from that of this module. This module will be removed in 0.20.\n",
      "  \"This module will be removed in 0.20.\", DeprecationWarning)\n"
     ]
    }
   ],
   "source": [
    "from functions import *"
   ]
  },
  {
   "cell_type": "code",
   "execution_count": 106,
   "metadata": {
    "collapsed": false
   },
   "outputs": [],
   "source": [
    "import islands as ABM\n",
    "\n",
    "def train_surrogate(train_set, ABM, kriging = False, XGB = False):\n",
    "    n = ABM.problem()['num_vars']\n",
    "    X, Y = train_set.iloc[:, :n], train_set.iloc[:, 7:].mean(axis = 1)\n",
    "\n",
    "    if kriging:\n",
    "        surrogate_model = GaussianProcessRegressor(random_state=0).fit(X, Y)\n",
    "    elif XGB:\n",
    "        surrogate_model = fit_surrogate_model(X, Y)\n",
    "        \n",
    "    return surrogate_model\n",
    "\n",
    "def sq_err_dist_on_test_set(test_set, surrogate_model):\n",
    "\n",
    "    test_set_X, test_set_Y = test_set.iloc[:, :7], test_set.iloc[:, 7:].mean(axis = 1)\n",
    "    predicted_Y = surrogate_model.predict(test_set_X.as_matrix())\n",
    "    \n",
    "    return (predicted_Y - test_set_Y.values)#**2\n",
    "\n",
    "\n",
    "def get_columns(df, string):\n",
    "    return [col for col in df.columns if string in col]"
   ]
  },
  {
   "cell_type": "code",
   "execution_count": 23,
   "metadata": {
    "collapsed": false
   },
   "outputs": [
    {
     "name": "stdout",
     "output_type": "stream",
     "text": [
      "NEW5\n",
      "NEW5\n",
      "NEW5\n",
      "NEW5\n",
      "NEW5\n"
     ]
    }
   ],
   "source": [
    "'Sobol__ss200_MC50'\n",
    "import pandas as pd\n",
    "import numpy as np\n",
    "\n",
    "size_sample = [200, 400, 800, 1600, 3200]\n",
    "sfs = 'Sobol'\n",
    "\n",
    "# sq_err = pd.DataFrame(columns = [sfs + '_' + str(ss) for sfs in SequenceFunctionStrings for ss in size_sample])\n",
    "sq_err = pd.DataFrame(columns = [sfs + '_' + str(ss) for ss in size_sample])\n",
    "\n",
    "test_set = pd.read_csv('MC_ss300_MC50')\n",
    "test_set.dropna(inplace=True)\n",
    "\n",
    "for ss in size_sample:\n",
    "    #Define train set\n",
    "    df = pd.read_csv(str(sfs)+'__ss'+str(ss)+'_MC50')\n",
    "    df = df.replace([np.inf, -np.inf], np.nan).dropna()\n",
    "    df.rename(columns = {'rho':'f0','alpha': 'f1','phi': 'f2','pi': 'f3','eps': 'f4','N': 'f5','lambda': 'f6'}, inplace=True)\n",
    "\n",
    "    #Fit surrogate\n",
    "    surrogate_model = train_surrogate(df, XGB = True)\n",
    "\n",
    "    col = sfs + '_' + str(ss)\n",
    "    sq_err[col] = sq_err_dist_on_test_set(test_set, surrogate_model)\n",
    "    \n",
    "    "
   ]
  },
  {
   "cell_type": "code",
   "execution_count": 93,
   "metadata": {
    "collapsed": false,
    "scrolled": true
   },
   "outputs": [
    {
     "data": {
      "image/png": "[encoded data removed]",
      "text/plain": [
       "<matplotlib.figure.Figure at 0x7f07545c7fd0>"
      ]
     },
     "metadata": {},
     "output_type": "display_data"
    }
   ],
   "source": [
    "SequenceFunctionStrings = ['Sobol']\n",
    "\n",
    "import matplotlib\n",
    "%matplotlib inline\n",
    "\n",
    "fig, ax = plt.subplots()\n",
    "x = np.log10(size_sample)\n",
    "\n",
    "    \n",
    "for i in range(len(SequenceFunctionStrings)):\n",
    "    sfs = SequenceFunctionStrings[i]\n",
    "    color = ['r', 'g', 'b','purple'][i]\n",
    "    label = ['Sob', 'RHal', 'Has'][i]\n",
    "    y_90 = sq_err[get_columns(sq_err, sfs)].quantile(.9).values\n",
    "    y_10 = sq_err[get_columns(sq_err, sfs)].quantile(.1).values\n",
    "    y_25 = sq_err[get_columns(sq_err, sfs)].quantile(.25).values\n",
    "    y_75 = sq_err[get_columns(sq_err, sfs)].quantile(.75).values\n",
    "    y_45 = sq_err[get_columns(sq_err, sfs)].quantile(.45).values\n",
    "    y_55 = sq_err[get_columns(sq_err, sfs)].quantile(.55).values\n",
    "    y = sq_err[get_columns(sq_err, sfs)].quantile().values\n",
    "    ax.fill_between(x, y_10, y_90, color = 'gray', alpha = .05, edgecolor = 'None')\n",
    "    ax.fill_between(x, y_25, y_75, color = 'gray', alpha = .1, edgecolor = 'None')\n",
    "    ax.fill_between(x, y_45, y_55, color = 'gray', alpha = .3, edgecolor = 'None')\n",
    "    ax.scatter(x, y, edgecolor = 'None', color = color, label = label)\n",
    "    \n",
    "    #ABM vs itself result:\n",
    "    test_set['mean_output'] = test_set.iloc[:, 7:].mean(axis = 1)\n",
    "    ABM_vs_itself_error = test_set.iloc[:, 7:-1].subtract(test_set['mean_output'], axis = 0).as_matrix().flatten()\n",
    "#     \n",
    "    for p in [10, 25, 45, 55, 75, 90]:\n",
    "        ax.axhline(np.percentile(ABM_vs_itself_error,p), 0, 3200, c = '.7', linestyle = '--')\n",
    "\n",
    "ax.set_ylabel('error dist')\n",
    "ax.set_xlabel('Training sample size (log10)')\n",
    "# ax.set_ylim(-.0002, .0012)\n",
    "# ax.set_xlim(190, 3300)\n",
    "# ax.set_xscale('log')\n",
    "ax.axhline(0, color='gray')\n",
    "ax.legend()\n",
    "plt.show()"
   ]
  },
  {
   "cell_type": "code",
   "execution_count": 12,
   "metadata": {
    "collapsed": false
   },
   "outputs": [],
   "source": [
    "import warnings\n",
    "warnings.filterwarnings('ignore')\n",
    "\n",
    "import pandas as pd\n",
    "import openturns as ot\n",
    "from joblib import Parallel, delayed\n",
    "from tqdm import tqdm\n",
    "import numpy as np\n",
    "\n",
    "# load ABM file\n",
    "import islands\n",
    "\n",
    "def build_Xy_table(ABM, size_sample, size_MC, SequenceFunction, SequenceFunctionString, as_df = True, to_file = True, **kwargs):\n",
    "    \n",
    "    import os\n",
    "    \n",
    "    problem_ABM = ABM.problem()\n",
    "\n",
    "    if SequenceFunction == ot.MonteCarloExperiment:\n",
    "        unscaled_set_X = np.array([ot.MonteCarloExperiment(ot.Uniform(0, 1), size_sample).generate() for i in range(problem_ABM['num_vars'])])\n",
    "        unscaled_set_X = unscaled_set_X.reshape(size_sample, problem_ABM['num_vars'])\n",
    "    \n",
    "    else:\n",
    "        SequenceFunction = SequenceFunction(problem_ABM['num_vars'], **kwargs)\n",
    "        unscaled_set_X = np.array(SequenceFunction.generate(size_sample))\n",
    "\n",
    "    set_X = rescale_sample(unscaled_set_X, problem_ABM['bounds'])\n",
    "    \n",
    "    # Evaluate\n",
    "    set_y = np.array([[ABM.model(p) for p in set_X] for i in range(size_MC)])\n",
    "    \n",
    "    # as DataFrame\n",
    "    df = pd.DataFrame(set_X, columns = problem_ABM['names']).join(pd.DataFrame(set_y).T.add_prefix('evaluation_'))\n",
    "    \n",
    "    if to_file:\n",
    "        # save file\n",
    "        directory = 'ABM_eval_'+problem_ABM['abm_name']\n",
    "        filename = SequenceFunctionString+'_ss'+str(size_sample)+'_MC'+str(size_MC)\n",
    "        if not os.path.exists(directory):\n",
    "            os.makedirs(directory+'/'+filename)\n",
    "        df.to_csv(filename, index = False)\n",
    "        print 'Saved file '+filename\n",
    "    if as_df:\n",
    "        return df\n",
    "    \n",
    "def rescale_sample(sample, bounds):\n",
    "    d = [b[1] - b[0] for b in bounds]\n",
    "    m = [min(b) for b in bounds]\n",
    "    rescaled_sample = m + (d * sample)\n",
    "    return rescaled_sample"
   ]
  },
  {
   "cell_type": "code",
   "execution_count": 107,
   "metadata": {
    "collapsed": false
   },
   "outputs": [
    {
     "ename": "TypeError",
     "evalue": "'module' object has no attribute '__getitem__'",
     "output_type": "error",
     "traceback": [
      "\u001b[1;31m---------------------------------------------------------------------------\u001b[0m",
      "\u001b[1;31mTypeError\u001b[0m                                 Traceback (most recent call last)",
      "\u001b[1;32m<ipython-input-107-9b3e4fc0b39a>\u001b[0m in \u001b[0;36m<module>\u001b[1;34m()\u001b[0m\n\u001b[0;32m      5\u001b[0m \u001b[0mtest_set_X\u001b[0m\u001b[1;33m,\u001b[0m \u001b[0mtest_set_Y\u001b[0m \u001b[1;33m=\u001b[0m \u001b[0mtest_set\u001b[0m\u001b[1;33m.\u001b[0m\u001b[0miloc\u001b[0m\u001b[1;33m[\u001b[0m\u001b[1;33m:\u001b[0m\u001b[1;33m,\u001b[0m \u001b[1;33m:\u001b[0m\u001b[1;36m7\u001b[0m\u001b[1;33m]\u001b[0m\u001b[1;33m,\u001b[0m \u001b[0mtest_set\u001b[0m\u001b[1;33m.\u001b[0m\u001b[0miloc\u001b[0m\u001b[1;33m[\u001b[0m\u001b[1;33m:\u001b[0m\u001b[1;33m,\u001b[0m \u001b[1;36m7\u001b[0m\u001b[1;33m:\u001b[0m\u001b[1;33m]\u001b[0m\u001b[1;33m.\u001b[0m\u001b[0mmean\u001b[0m\u001b[1;33m(\u001b[0m\u001b[0maxis\u001b[0m \u001b[1;33m=\u001b[0m \u001b[1;36m1\u001b[0m\u001b[1;33m)\u001b[0m\u001b[1;33m\u001b[0m\u001b[0m\n\u001b[0;32m      6\u001b[0m \u001b[1;33m\u001b[0m\u001b[0m\n\u001b[1;32m----> 7\u001b[1;33m \u001b[0mx\u001b[0m \u001b[1;33m=\u001b[0m \u001b[0mtrain_surrogate\u001b[0m\u001b[1;33m(\u001b[0m\u001b[0mtrain_set\u001b[0m\u001b[1;33m,\u001b[0m \u001b[0mABM\u001b[0m\u001b[1;33m,\u001b[0m \u001b[0mkriging\u001b[0m \u001b[1;33m=\u001b[0m \u001b[0mFalse\u001b[0m\u001b[1;33m,\u001b[0m \u001b[0mXGB\u001b[0m \u001b[1;33m=\u001b[0m \u001b[0mFalse\u001b[0m\u001b[1;33m)\u001b[0m\u001b[1;33m\u001b[0m\u001b[0m\n\u001b[0m\u001b[0;32m      8\u001b[0m \u001b[1;33m\u001b[0m\u001b[0m\n\u001b[0;32m      9\u001b[0m \u001b[0mpredicted_Y\u001b[0m \u001b[1;33m=\u001b[0m \u001b[0msurrogate_model\u001b[0m\u001b[1;33m.\u001b[0m\u001b[0mpredict\u001b[0m\u001b[1;33m(\u001b[0m\u001b[0mtest_set_X\u001b[0m\u001b[1;33m.\u001b[0m\u001b[0mas_matrix\u001b[0m\u001b[1;33m(\u001b[0m\u001b[1;33m)\u001b[0m\u001b[1;33m)\u001b[0m\u001b[1;33m\u001b[0m\u001b[0m\n",
      "\u001b[1;32m<ipython-input-106-4bde105c32ff>\u001b[0m in \u001b[0;36mtrain_surrogate\u001b[1;34m(train_set, problem_ABM, kriging, XGB)\u001b[0m\n\u001b[0;32m      4\u001b[0m \u001b[1;33m\u001b[0m\u001b[0m\n\u001b[0;32m      5\u001b[0m \u001b[1;32mdef\u001b[0m \u001b[0mtrain_surrogate\u001b[0m\u001b[1;33m(\u001b[0m\u001b[0mtrain_set\u001b[0m\u001b[1;33m,\u001b[0m \u001b[0mproblem_ABM\u001b[0m\u001b[1;33m,\u001b[0m \u001b[0mkriging\u001b[0m \u001b[1;33m=\u001b[0m \u001b[0mFalse\u001b[0m\u001b[1;33m,\u001b[0m \u001b[0mXGB\u001b[0m \u001b[1;33m=\u001b[0m \u001b[0mFalse\u001b[0m\u001b[1;33m)\u001b[0m\u001b[1;33m:\u001b[0m\u001b[1;33m\u001b[0m\u001b[0m\n\u001b[1;32m----> 6\u001b[1;33m     \u001b[0mn\u001b[0m \u001b[1;33m=\u001b[0m \u001b[0mproblem_ABM\u001b[0m\u001b[1;33m[\u001b[0m\u001b[1;34m'num_vars'\u001b[0m\u001b[1;33m]\u001b[0m\u001b[1;33m\u001b[0m\u001b[0m\n\u001b[0m\u001b[0;32m      7\u001b[0m     \u001b[0mX\u001b[0m\u001b[1;33m,\u001b[0m \u001b[0mY\u001b[0m \u001b[1;33m=\u001b[0m \u001b[0mtrain_set\u001b[0m\u001b[1;33m.\u001b[0m\u001b[0miloc\u001b[0m\u001b[1;33m[\u001b[0m\u001b[1;33m:\u001b[0m\u001b[1;33m,\u001b[0m \u001b[1;33m:\u001b[0m\u001b[0mn\u001b[0m\u001b[1;33m]\u001b[0m\u001b[1;33m,\u001b[0m \u001b[0mtrain_set\u001b[0m\u001b[1;33m.\u001b[0m\u001b[0miloc\u001b[0m\u001b[1;33m[\u001b[0m\u001b[1;33m:\u001b[0m\u001b[1;33m,\u001b[0m \u001b[1;36m7\u001b[0m\u001b[1;33m:\u001b[0m\u001b[1;33m]\u001b[0m\u001b[1;33m.\u001b[0m\u001b[0mmean\u001b[0m\u001b[1;33m(\u001b[0m\u001b[0maxis\u001b[0m \u001b[1;33m=\u001b[0m \u001b[1;36m1\u001b[0m\u001b[1;33m)\u001b[0m\u001b[1;33m\u001b[0m\u001b[0m\n\u001b[0;32m      8\u001b[0m \u001b[1;33m\u001b[0m\u001b[0m\n",
      "\u001b[1;31mTypeError\u001b[0m: 'module' object has no attribute '__getitem__'"
     ]
    }
   ],
   "source": [
    "train_set = pd.read_csv('Sobol__ss3200_MC50')\n",
    "train_set = train_set.replace([np.inf, -np.inf], np.nan).dropna()\n",
    "train_set.rename(columns = {'rho':'f0','alpha': 'f1','phi': 'f2','pi': 'f3','eps': 'f4','N': 'f5','lambda': 'f6'}, inplace=True)\n",
    "\n",
    "test_set_X, test_set_Y = test_set.iloc[:, :7], test_set.iloc[:, 7:].mean(axis = 1)\n",
    "\n",
    "x = train_surrogate(train_set, ABM, kriging = False, XGB = False)\n",
    "\n",
    "predicted_Y = surrogate_model.predict(test_set_X.as_matrix())\n",
    "plt.scatter(predicted_Y, test_set_Y.values, edgecolors = 'None', alpha = 0.2)\n",
    "plt.xlim(0, 0.03)\n",
    "plt.ylim(0, 0.03)\n",
    "plt.title('')\n",
    "plt.show()"
   ]
  },
  {
   "cell_type": "code",
   "execution_count": 105,
   "metadata": {
    "collapsed": false
   },
   "outputs": [
    {
     "ename": "SyntaxError",
     "evalue": "invalid syntax (<ipython-input-105-8abc24d089a5>, line 1)",
     "output_type": "error",
     "traceback": [
      "\u001b[1;36m  File \u001b[1;32m\"<ipython-input-105-8abc24d089a5>\"\u001b[1;36m, line \u001b[1;32m1\u001b[0m\n\u001b[1;33m    problem_ABM['num_vars']?\u001b[0m\n\u001b[1;37m                           ^\u001b[0m\n\u001b[1;31mSyntaxError\u001b[0m\u001b[1;31m:\u001b[0m invalid syntax\n"
     ]
    }
   ],
   "source": [
    "problem_ABM['num_vars']"
   ]
  },
  {
   "cell_type": "code",
   "execution_count": null,
   "metadata": {
    "collapsed": true
   },
   "outputs": [],
   "source": []
  }
 ],
 "metadata": {
  "kernelspec": {
   "display_name": "Python 2",
   "language": "python",
   "name": "python2"
  },
  "language_info": {
   "codemirror_mode": {
    "name": "ipython",
    "version": 2
   },
   "file_extension": ".py",
   "mimetype": "text/x-python",
   "name": "python",
   "nbconvert_exporter": "python",
   "pygments_lexer": "ipython2",
   "version": "2.7.13"
  }
 },
 "nbformat": 4,
 "nbformat_minor": 0
}
